{
 "cells": [
  {
   "cell_type": "markdown",
   "metadata": {},
   "source": [
    "### Classification using Decision Trees\n"
   ]
  },
  {
   "cell_type": "markdown",
   "metadata": {},
   "source": [
    "Heart Disease Databases (Cleveland database)\n",
    "https://archive.ics.uci.edu/ml/machine-learning-databases/heart-disease/"
   ]
  },
  {
   "cell_type": "code",
   "execution_count": 1,
   "metadata": {},
   "outputs": [],
   "source": [
    "#Importing libraries\n",
    "import numpy as np\n",
    "import pandas as pd\n",
    "from sklearn.model_selection import train_test_split\n",
    "from sklearn import tree\n",
    "from sklearn.metrics import classification_report, accuracy_score, f1_score, confusion_matrix\n",
    "import matplotlib.pyplot as plt"
   ]
  },
  {
   "cell_type": "markdown",
   "metadata": {},
   "source": [
    "###### Preparing datasets"
   ]
  },
  {
   "cell_type": "code",
   "execution_count": 2,
   "metadata": {},
   "outputs": [
    {
     "data": {
      "text/html": [
       "<div>\n",
       "<style scoped>\n",
       "    .dataframe tbody tr th:only-of-type {\n",
       "        vertical-align: middle;\n",
       "    }\n",
       "\n",
       "    .dataframe tbody tr th {\n",
       "        vertical-align: top;\n",
       "    }\n",
       "\n",
       "    .dataframe thead th {\n",
       "        text-align: right;\n",
       "    }\n",
       "</style>\n",
       "<table border=\"1\" class=\"dataframe\">\n",
       "  <thead>\n",
       "    <tr style=\"text-align: right;\">\n",
       "      <th></th>\n",
       "      <th>age</th>\n",
       "      <th>sex</th>\n",
       "      <th>cp</th>\n",
       "      <th>trestbps</th>\n",
       "      <th>chol</th>\n",
       "      <th>fbs</th>\n",
       "      <th>restecg</th>\n",
       "      <th>thalach</th>\n",
       "      <th>exang</th>\n",
       "      <th>oldpeak</th>\n",
       "      <th>slope</th>\n",
       "      <th>ca</th>\n",
       "      <th>thal</th>\n",
       "      <th>status</th>\n",
       "    </tr>\n",
       "  </thead>\n",
       "  <tbody>\n",
       "    <tr>\n",
       "      <td>0</td>\n",
       "      <td>63.0</td>\n",
       "      <td>1.0</td>\n",
       "      <td>1.0</td>\n",
       "      <td>145.0</td>\n",
       "      <td>233.0</td>\n",
       "      <td>1.0</td>\n",
       "      <td>2.0</td>\n",
       "      <td>150.0</td>\n",
       "      <td>0.0</td>\n",
       "      <td>2.3</td>\n",
       "      <td>3.0</td>\n",
       "      <td>0.0</td>\n",
       "      <td>6.0</td>\n",
       "      <td>0</td>\n",
       "    </tr>\n",
       "    <tr>\n",
       "      <td>1</td>\n",
       "      <td>67.0</td>\n",
       "      <td>1.0</td>\n",
       "      <td>4.0</td>\n",
       "      <td>160.0</td>\n",
       "      <td>286.0</td>\n",
       "      <td>0.0</td>\n",
       "      <td>2.0</td>\n",
       "      <td>108.0</td>\n",
       "      <td>1.0</td>\n",
       "      <td>1.5</td>\n",
       "      <td>2.0</td>\n",
       "      <td>3.0</td>\n",
       "      <td>3.0</td>\n",
       "      <td>2</td>\n",
       "    </tr>\n",
       "    <tr>\n",
       "      <td>2</td>\n",
       "      <td>67.0</td>\n",
       "      <td>1.0</td>\n",
       "      <td>4.0</td>\n",
       "      <td>120.0</td>\n",
       "      <td>229.0</td>\n",
       "      <td>0.0</td>\n",
       "      <td>2.0</td>\n",
       "      <td>129.0</td>\n",
       "      <td>1.0</td>\n",
       "      <td>2.6</td>\n",
       "      <td>2.0</td>\n",
       "      <td>2.0</td>\n",
       "      <td>7.0</td>\n",
       "      <td>1</td>\n",
       "    </tr>\n",
       "    <tr>\n",
       "      <td>3</td>\n",
       "      <td>37.0</td>\n",
       "      <td>1.0</td>\n",
       "      <td>3.0</td>\n",
       "      <td>130.0</td>\n",
       "      <td>250.0</td>\n",
       "      <td>0.0</td>\n",
       "      <td>0.0</td>\n",
       "      <td>187.0</td>\n",
       "      <td>0.0</td>\n",
       "      <td>3.5</td>\n",
       "      <td>3.0</td>\n",
       "      <td>0.0</td>\n",
       "      <td>3.0</td>\n",
       "      <td>0</td>\n",
       "    </tr>\n",
       "    <tr>\n",
       "      <td>4</td>\n",
       "      <td>41.0</td>\n",
       "      <td>0.0</td>\n",
       "      <td>2.0</td>\n",
       "      <td>130.0</td>\n",
       "      <td>204.0</td>\n",
       "      <td>0.0</td>\n",
       "      <td>2.0</td>\n",
       "      <td>172.0</td>\n",
       "      <td>0.0</td>\n",
       "      <td>1.4</td>\n",
       "      <td>1.0</td>\n",
       "      <td>0.0</td>\n",
       "      <td>3.0</td>\n",
       "      <td>0</td>\n",
       "    </tr>\n",
       "    <tr>\n",
       "      <td>...</td>\n",
       "      <td>...</td>\n",
       "      <td>...</td>\n",
       "      <td>...</td>\n",
       "      <td>...</td>\n",
       "      <td>...</td>\n",
       "      <td>...</td>\n",
       "      <td>...</td>\n",
       "      <td>...</td>\n",
       "      <td>...</td>\n",
       "      <td>...</td>\n",
       "      <td>...</td>\n",
       "      <td>...</td>\n",
       "      <td>...</td>\n",
       "      <td>...</td>\n",
       "    </tr>\n",
       "    <tr>\n",
       "      <td>298</td>\n",
       "      <td>45.0</td>\n",
       "      <td>1.0</td>\n",
       "      <td>1.0</td>\n",
       "      <td>110.0</td>\n",
       "      <td>264.0</td>\n",
       "      <td>0.0</td>\n",
       "      <td>0.0</td>\n",
       "      <td>132.0</td>\n",
       "      <td>0.0</td>\n",
       "      <td>1.2</td>\n",
       "      <td>2.0</td>\n",
       "      <td>0.0</td>\n",
       "      <td>7.0</td>\n",
       "      <td>1</td>\n",
       "    </tr>\n",
       "    <tr>\n",
       "      <td>299</td>\n",
       "      <td>68.0</td>\n",
       "      <td>1.0</td>\n",
       "      <td>4.0</td>\n",
       "      <td>144.0</td>\n",
       "      <td>193.0</td>\n",
       "      <td>1.0</td>\n",
       "      <td>0.0</td>\n",
       "      <td>141.0</td>\n",
       "      <td>0.0</td>\n",
       "      <td>3.4</td>\n",
       "      <td>2.0</td>\n",
       "      <td>2.0</td>\n",
       "      <td>7.0</td>\n",
       "      <td>2</td>\n",
       "    </tr>\n",
       "    <tr>\n",
       "      <td>300</td>\n",
       "      <td>57.0</td>\n",
       "      <td>1.0</td>\n",
       "      <td>4.0</td>\n",
       "      <td>130.0</td>\n",
       "      <td>131.0</td>\n",
       "      <td>0.0</td>\n",
       "      <td>0.0</td>\n",
       "      <td>115.0</td>\n",
       "      <td>1.0</td>\n",
       "      <td>1.2</td>\n",
       "      <td>2.0</td>\n",
       "      <td>1.0</td>\n",
       "      <td>7.0</td>\n",
       "      <td>3</td>\n",
       "    </tr>\n",
       "    <tr>\n",
       "      <td>301</td>\n",
       "      <td>57.0</td>\n",
       "      <td>0.0</td>\n",
       "      <td>2.0</td>\n",
       "      <td>130.0</td>\n",
       "      <td>236.0</td>\n",
       "      <td>0.0</td>\n",
       "      <td>2.0</td>\n",
       "      <td>174.0</td>\n",
       "      <td>0.0</td>\n",
       "      <td>0.0</td>\n",
       "      <td>2.0</td>\n",
       "      <td>1.0</td>\n",
       "      <td>3.0</td>\n",
       "      <td>1</td>\n",
       "    </tr>\n",
       "    <tr>\n",
       "      <td>302</td>\n",
       "      <td>38.0</td>\n",
       "      <td>1.0</td>\n",
       "      <td>3.0</td>\n",
       "      <td>138.0</td>\n",
       "      <td>175.0</td>\n",
       "      <td>0.0</td>\n",
       "      <td>0.0</td>\n",
       "      <td>173.0</td>\n",
       "      <td>0.0</td>\n",
       "      <td>0.0</td>\n",
       "      <td>1.0</td>\n",
       "      <td>?</td>\n",
       "      <td>3.0</td>\n",
       "      <td>0</td>\n",
       "    </tr>\n",
       "  </tbody>\n",
       "</table>\n",
       "<p>303 rows × 14 columns</p>\n",
       "</div>"
      ],
      "text/plain": [
       "      age  sex   cp  trestbps   chol  fbs  restecg  thalach  exang  oldpeak  \\\n",
       "0    63.0  1.0  1.0     145.0  233.0  1.0      2.0    150.0    0.0      2.3   \n",
       "1    67.0  1.0  4.0     160.0  286.0  0.0      2.0    108.0    1.0      1.5   \n",
       "2    67.0  1.0  4.0     120.0  229.0  0.0      2.0    129.0    1.0      2.6   \n",
       "3    37.0  1.0  3.0     130.0  250.0  0.0      0.0    187.0    0.0      3.5   \n",
       "4    41.0  0.0  2.0     130.0  204.0  0.0      2.0    172.0    0.0      1.4   \n",
       "..    ...  ...  ...       ...    ...  ...      ...      ...    ...      ...   \n",
       "298  45.0  1.0  1.0     110.0  264.0  0.0      0.0    132.0    0.0      1.2   \n",
       "299  68.0  1.0  4.0     144.0  193.0  1.0      0.0    141.0    0.0      3.4   \n",
       "300  57.0  1.0  4.0     130.0  131.0  0.0      0.0    115.0    1.0      1.2   \n",
       "301  57.0  0.0  2.0     130.0  236.0  0.0      2.0    174.0    0.0      0.0   \n",
       "302  38.0  1.0  3.0     138.0  175.0  0.0      0.0    173.0    0.0      0.0   \n",
       "\n",
       "     slope   ca thal  status  \n",
       "0      3.0  0.0  6.0       0  \n",
       "1      2.0  3.0  3.0       2  \n",
       "2      2.0  2.0  7.0       1  \n",
       "3      3.0  0.0  3.0       0  \n",
       "4      1.0  0.0  3.0       0  \n",
       "..     ...  ...  ...     ...  \n",
       "298    2.0  0.0  7.0       1  \n",
       "299    2.0  2.0  7.0       2  \n",
       "300    2.0  1.0  7.0       3  \n",
       "301    2.0  1.0  3.0       1  \n",
       "302    1.0    ?  3.0       0  \n",
       "\n",
       "[303 rows x 14 columns]"
      ]
     },
     "execution_count": 2,
     "metadata": {},
     "output_type": "execute_result"
    }
   ],
   "source": [
    "col_names = [\"age\", \"sex\", \"cp\", \"trestbps\", \"chol\",\"fbs\", \"restecg\", \"thalach\",\"exang\", \"oldpeak\",\"slope\", \"ca\", \"thal\", \"status\"]\n",
    "df = pd.read_csv(\"Datasets/processed.cleveland.csv\", names=col_names)\n",
    "df"
   ]
  },
  {
   "cell_type": "code",
   "execution_count": 3,
   "metadata": {},
   "outputs": [
    {
     "data": {
      "text/plain": [
       "False"
      ]
     },
     "execution_count": 3,
     "metadata": {},
     "output_type": "execute_result"
    }
   ],
   "source": [
    "# Checking if any Nans are present\n",
    "df.isna().values.any()"
   ]
  },
  {
   "cell_type": "code",
   "execution_count": 4,
   "metadata": {},
   "outputs": [
    {
     "name": "stdout",
     "output_type": "stream",
     "text": [
      "[87, 166, 192, 266, 287, 302]\n"
     ]
    },
    {
     "data": {
      "text/html": [
       "<div>\n",
       "<style scoped>\n",
       "    .dataframe tbody tr th:only-of-type {\n",
       "        vertical-align: middle;\n",
       "    }\n",
       "\n",
       "    .dataframe tbody tr th {\n",
       "        vertical-align: top;\n",
       "    }\n",
       "\n",
       "    .dataframe thead th {\n",
       "        text-align: right;\n",
       "    }\n",
       "</style>\n",
       "<table border=\"1\" class=\"dataframe\">\n",
       "  <thead>\n",
       "    <tr style=\"text-align: right;\">\n",
       "      <th></th>\n",
       "      <th>age</th>\n",
       "      <th>sex</th>\n",
       "      <th>cp</th>\n",
       "      <th>trestbps</th>\n",
       "      <th>chol</th>\n",
       "      <th>fbs</th>\n",
       "      <th>restecg</th>\n",
       "      <th>thalach</th>\n",
       "      <th>exang</th>\n",
       "      <th>oldpeak</th>\n",
       "      <th>slope</th>\n",
       "      <th>ca</th>\n",
       "      <th>thal</th>\n",
       "      <th>status</th>\n",
       "    </tr>\n",
       "  </thead>\n",
       "  <tbody>\n",
       "    <tr>\n",
       "      <td>297</td>\n",
       "      <td>57.0</td>\n",
       "      <td>0.0</td>\n",
       "      <td>4.0</td>\n",
       "      <td>140.0</td>\n",
       "      <td>241.0</td>\n",
       "      <td>0.0</td>\n",
       "      <td>0.0</td>\n",
       "      <td>123.0</td>\n",
       "      <td>1.0</td>\n",
       "      <td>0.2</td>\n",
       "      <td>2.0</td>\n",
       "      <td>0.0</td>\n",
       "      <td>7.0</td>\n",
       "      <td>1</td>\n",
       "    </tr>\n",
       "    <tr>\n",
       "      <td>298</td>\n",
       "      <td>45.0</td>\n",
       "      <td>1.0</td>\n",
       "      <td>1.0</td>\n",
       "      <td>110.0</td>\n",
       "      <td>264.0</td>\n",
       "      <td>0.0</td>\n",
       "      <td>0.0</td>\n",
       "      <td>132.0</td>\n",
       "      <td>0.0</td>\n",
       "      <td>1.2</td>\n",
       "      <td>2.0</td>\n",
       "      <td>0.0</td>\n",
       "      <td>7.0</td>\n",
       "      <td>1</td>\n",
       "    </tr>\n",
       "    <tr>\n",
       "      <td>299</td>\n",
       "      <td>68.0</td>\n",
       "      <td>1.0</td>\n",
       "      <td>4.0</td>\n",
       "      <td>144.0</td>\n",
       "      <td>193.0</td>\n",
       "      <td>1.0</td>\n",
       "      <td>0.0</td>\n",
       "      <td>141.0</td>\n",
       "      <td>0.0</td>\n",
       "      <td>3.4</td>\n",
       "      <td>2.0</td>\n",
       "      <td>2.0</td>\n",
       "      <td>7.0</td>\n",
       "      <td>2</td>\n",
       "    </tr>\n",
       "    <tr>\n",
       "      <td>300</td>\n",
       "      <td>57.0</td>\n",
       "      <td>1.0</td>\n",
       "      <td>4.0</td>\n",
       "      <td>130.0</td>\n",
       "      <td>131.0</td>\n",
       "      <td>0.0</td>\n",
       "      <td>0.0</td>\n",
       "      <td>115.0</td>\n",
       "      <td>1.0</td>\n",
       "      <td>1.2</td>\n",
       "      <td>2.0</td>\n",
       "      <td>1.0</td>\n",
       "      <td>7.0</td>\n",
       "      <td>3</td>\n",
       "    </tr>\n",
       "    <tr>\n",
       "      <td>301</td>\n",
       "      <td>57.0</td>\n",
       "      <td>0.0</td>\n",
       "      <td>2.0</td>\n",
       "      <td>130.0</td>\n",
       "      <td>236.0</td>\n",
       "      <td>0.0</td>\n",
       "      <td>2.0</td>\n",
       "      <td>174.0</td>\n",
       "      <td>0.0</td>\n",
       "      <td>0.0</td>\n",
       "      <td>2.0</td>\n",
       "      <td>1.0</td>\n",
       "      <td>3.0</td>\n",
       "      <td>1</td>\n",
       "    </tr>\n",
       "  </tbody>\n",
       "</table>\n",
       "</div>"
      ],
      "text/plain": [
       "      age  sex   cp  trestbps   chol  fbs  restecg  thalach  exang  oldpeak  \\\n",
       "297  57.0  0.0  4.0     140.0  241.0  0.0      0.0    123.0    1.0      0.2   \n",
       "298  45.0  1.0  1.0     110.0  264.0  0.0      0.0    132.0    0.0      1.2   \n",
       "299  68.0  1.0  4.0     144.0  193.0  1.0      0.0    141.0    0.0      3.4   \n",
       "300  57.0  1.0  4.0     130.0  131.0  0.0      0.0    115.0    1.0      1.2   \n",
       "301  57.0  0.0  2.0     130.0  236.0  0.0      2.0    174.0    0.0      0.0   \n",
       "\n",
       "     slope   ca thal  status  \n",
       "297    2.0  0.0  7.0       1  \n",
       "298    2.0  0.0  7.0       1  \n",
       "299    2.0  2.0  7.0       2  \n",
       "300    2.0  1.0  7.0       3  \n",
       "301    2.0  1.0  3.0       1  "
      ]
     },
     "execution_count": 4,
     "metadata": {},
     "output_type": "execute_result"
    }
   ],
   "source": [
    "# Selecting rows (and their indexes) with \"?\" value\n",
    "df[df.values == '?']\n",
    "print(list(df[df.values == '?'].index))\n",
    "\n",
    "# Dropping rows with \"?\" from df\n",
    "df = df.drop(list(df[df.values == '?'].index))\n",
    "df.tail()"
   ]
  },
  {
   "cell_type": "code",
   "execution_count": 5,
   "metadata": {},
   "outputs": [
    {
     "data": {
      "text/plain": [
       "array([0, 1, 1, 0, 0, 0, 1, 0, 1, 1, 0, 0, 1, 0, 0, 0, 1, 0, 0, 0])"
      ]
     },
     "execution_count": 5,
     "metadata": {},
     "output_type": "execute_result"
    }
   ],
   "source": [
    "# Comvering target variable into a  binary one - \"0\" (normal) and \"1\" (abnormal)\n",
    "df[\"status\"] = np.where(df[\"status\"] > 0, 1, 0)\n",
    "df[\"status\"].values[0:20]"
   ]
  },
  {
   "cell_type": "code",
   "execution_count": 6,
   "metadata": {},
   "outputs": [
    {
     "data": {
      "text/plain": [
       "Text(0.5, 1.0, 'Histogram')"
      ]
     },
     "execution_count": 6,
     "metadata": {},
     "output_type": "execute_result"
    },
    {
     "data": {
      "image/png": "[encoded data removed]",
      "text/plain": [
       "<Figure size 288x288 with 1 Axes>"
      ]
     },
     "metadata": {
      "needs_background": "light"
     },
     "output_type": "display_data"
    }
   ],
   "source": [
    "# Plotting a histrogram for status\n",
    "df.hist(column=\"status\", bins=2, grid=False, figsize=(4,4), color='#86bf91', rwidth=0.9)\n",
    "plt.ylabel('Frequency')\n",
    "plt.xlabel('No heart disease vs heart disease')\n",
    "plt.title('Histogram')"
   ]
  },
  {
   "cell_type": "code",
   "execution_count": 7,
   "metadata": {},
   "outputs": [
    {
     "name": "stdout",
     "output_type": "stream",
     "text": [
      "207\n",
      "90\n",
      "207\n",
      "90\n"
     ]
    }
   ],
   "source": [
    "# Specyfing predictor and target variables in training and test data sets\n",
    "y = df.status\n",
    "X = df.iloc[:,0:13]\n",
    "\n",
    "X_train, X_test, y_train, y_test = train_test_split(X, y, test_size=0.3)\n",
    "print(len(X_train))\n",
    "print(len(X_test))\n",
    "print(len(y_train))\n",
    "print(len(y_test))"
   ]
  },
  {
   "cell_type": "markdown",
   "metadata": {},
   "source": [
    "### Creating tree objects\n",
    "\n",
    "Preprating two classification models to compare the algorithms for categorical target variable: Gini and Entropy (Information gain)."
   ]
  },
  {
   "cell_type": "markdown",
   "metadata": {},
   "source": [
    "#### Gini algorithm\n",
    "\n",
    "Gini Index is a measure of total variance across all the classes in the predictor variable. \n",
    "\n",
    "Smaller Gini values --> higher the homogeneity of a node (purer group).\n",
    "\n",
    "The algorithm assumes that the target variable is categorical and performs only binary splits.\n",
    "\n",
    "\n",
    "Calculate Gini for a split:\n",
    "1. First calculate Gini for sub-nodes by summing squares of probability for success (p) and failure (q): p^2 + q^2.\n",
    "2. Then, calculate Gini for split using weighted Gini result for each node of that split.\n"
   ]
  },
  {
   "cell_type": "markdown",
   "metadata": {},
   "source": [
    "### Calculations for sample nodes\n",
    "###### Split on \"sex\""
   ]
  },
  {
   "cell_type": "code",
   "execution_count": 8,
   "metadata": {},
   "outputs": [
    {
     "name": "stdout",
     "output_type": "stream",
     "text": [
      "Total # female:  96\n",
      "Total # male:  201\n",
      "Total # female with heart disease:  25\n",
      "Total # male with heart disease:  112\n",
      "Total # female & male: 297\n",
      "Total # patients with heart disease: 137\n",
      "Gini for sub-node Female:  0.615\n",
      "Gini for sub-node Male:  0.507\n",
      "Weighted Gini for Split Gender:  0.542\n",
      "Information gain:  0.458\n"
     ]
    }
   ],
   "source": [
    "f_total = df[\"sex\"][df[\"sex\"]==0.0].count()\n",
    "f_abnormal = df[\"status\"][((df[\"sex\"]==0.0) & (df[\"status\"]==1))].sum()\n",
    "\n",
    "m_total = len(df) - f_total\n",
    "m_abnormal = df[\"status\"][((df[\"sex\"]==1.0) & (df[\"status\"]==1))].sum()\n",
    "\n",
    "n_samples = len(df)\n",
    "abnormal = df[\"status\"][(df[\"status\"]==1)].sum()\n",
    "\n",
    "print(\"Total # female: \", f_total)\n",
    "print(\"Total # male: \", m_total)\n",
    "print(\"Total # female with heart disease: \", f_abnormal)\n",
    "print(\"Total # male with heart disease: \", m_abnormal)\n",
    "print(\"Total # female & male:\", n_samples)\n",
    "print(\"Total # patients with heart disease:\", abnormal)\n",
    "\n",
    "# 1. Gini for sub-node Female\n",
    "gini_f = (f_abnormal/f_total)**2 +(1-(f_abnormal)/f_total)**2\n",
    "# 2. Gini for sub-node Male\n",
    "gini_m =(m_abnormal/m_total)**2 +(1-(m_abnormal)/m_total)**2\n",
    "# 3. Weighted Gini for Split Gender\n",
    "gini_sex_weighted = (f_total/n_samples)*gini_f + (m_total/n_samples)*gini_m \n",
    "\n",
    "print(\"Gini for sub-node Female: \", round(gini_f, 3))\n",
    "print(\"Gini for sub-node Male: \", round(gini_m, 3))\n",
    "print(\"Weighted Gini for Split Gender: \", round(gini_sex_weighted, 3))\n",
    "print(\"Information gain: \", round((1-gini_sex_weighted), 3))"
   ]
  },
  {
   "cell_type": "markdown",
   "metadata": {},
   "source": [
    "###### Split on \"fbs\"\n",
    "fbs: (fasting blood sugar > 120 mg/dl)  (1 = true; 0 = false)"
   ]
  },
  {
   "cell_type": "code",
   "execution_count": 9,
   "metadata": {
    "scrolled": true
   },
   "outputs": [
    {
     "name": "stdout",
     "output_type": "stream",
     "text": [
      "Total # for low_sugar:  254\n",
      "Total # for high_sugar:  43\n",
      "Total # for low_sugar & heart disease:  117\n",
      "Total # for high_sugar & heart disease:  20.0\n",
      "# samples: 297\n",
      "Gini for sub-node fbs < 120 mg/dl:  0.503\n",
      "Gini for sub-node fbs > 120 mg/dl:  0.502\n",
      "Weighted Gini for Split fbs:  0.503\n",
      "Information gain:  0.497\n"
     ]
    }
   ],
   "source": [
    "low_sugar = df[\"fbs\"][df[\"fbs\"]==0.0].count()\n",
    "low_sugar_abnormal = df[\"status\"][((df[\"fbs\"]==0.0) & (df[\"status\"]==1))].sum()\n",
    "\n",
    "high_sugar = len(df) - low_sugar\n",
    "high_sugar_abnormal = df[\"fbs\"][((df[\"fbs\"]==1.0) & (df[\"status\"]==1))].sum()\n",
    "\n",
    "n_samples = len(df)\n",
    "\n",
    "print(\"Total # for low_sugar: \", low_sugar)\n",
    "print(\"Total # for high_sugar: \", high_sugar)\n",
    "print(\"Total # for low_sugar & heart disease: \", low_sugar_abnormal)\n",
    "print(\"Total # for high_sugar & heart disease: \", high_sugar_abnormal)\n",
    "print(\"# samples:\", n_samples)\n",
    "\n",
    "\n",
    "# 1. Gini for sub-node fbs < 120 mg/dl\n",
    "gini_low = (low_sugar_abnormal/low_sugar)**2 +(1-(low_sugar_abnormal/low_sugar))**2\n",
    "# 2. Gini for sub-node fbs > 120 mg/dl\n",
    "gini_high =(high_sugar_abnormal/high_sugar)**2 +(1-(high_sugar_abnormal/high_sugar))**2\n",
    "# 3. Weighted Gini for Split fbs\n",
    "gini_fbs_weighted = (low_sugar/n_samples)*gini_low + (high_sugar/n_samples)*gini_high\n",
    "\n",
    "print(\"Gini for sub-node fbs < 120 mg/dl: \", round(gini_low,3))\n",
    "print(\"Gini for sub-node fbs > 120 mg/dl: \", round(gini_high,3))\n",
    "print(\"Weighted Gini for Split fbs: \", round(gini_fbs_weighted,3))\n",
    "print(\"Information gain: \", round((1-gini_fbs_weighted), 3))"
   ]
  },
  {
   "cell_type": "markdown",
   "metadata": {},
   "source": [
    "Splitting on \"fasting blood sugar\" gives us slightly better results (smaller Gini indexes) which means that nodes splitted by \"fbs\" are more homogeneous than splitted by \"sex\"."
   ]
  },
  {
   "cell_type": "markdown",
   "metadata": {},
   "source": [
    "### Creating tree objects using sklearn"
   ]
  },
  {
   "cell_type": "code",
   "execution_count": 25,
   "metadata": {},
   "outputs": [],
   "source": [
    "model_gini = tree.DecisionTreeClassifier(criterion='gini', max_depth = 3)\n",
    "\n",
    "# max_depth is a way to preprune a decision tree ->\n",
    "# if a tree is already as pure as possible at a depth, it won't split any more "
   ]
  },
  {
   "cell_type": "code",
   "execution_count": 11,
   "metadata": {},
   "outputs": [
    {
     "data": {
      "text/plain": [
       "[0.7555555555555555,\n",
       " 0.7555555555555555,\n",
       " 0.8222222222222222,\n",
       " 0.8111111111111111,\n",
       " 0.8]"
      ]
     },
     "execution_count": 11,
     "metadata": {},
     "output_type": "execute_result"
    }
   ],
   "source": [
    "# List of values to try for max_depth:\n",
    "max_depth_range = list(range(1, 6))\n",
    "accuracy = []\n",
    "for depth in max_depth_range:\n",
    "    clf = tree.DecisionTreeClassifier(max_depth = depth)\n",
    "    clf.fit(X_train, y_train)    \n",
    "    score = clf.score(X_test, y_test)\n",
    "    accuracy.append(score)\n",
    "    \n",
    "accuracy"
   ]
  },
  {
   "cell_type": "code",
   "execution_count": 26,
   "metadata": {},
   "outputs": [
    {
     "data": {
      "text/plain": [
       "DecisionTreeClassifier(class_weight=None, criterion='gini', max_depth=3,\n",
       "                       max_features=None, max_leaf_nodes=None,\n",
       "                       min_impurity_decrease=0.0, min_impurity_split=None,\n",
       "                       min_samples_leaf=1, min_samples_split=2,\n",
       "                       min_weight_fraction_leaf=0.0, presort=False,\n",
       "                       random_state=None, splitter='best')"
      ]
     },
     "execution_count": 26,
     "metadata": {},
     "output_type": "execute_result"
    }
   ],
   "source": [
    "# Training the model on the training set\n",
    "model_gini.fit(X_train, y_train)"
   ]
  },
  {
   "cell_type": "markdown",
   "metadata": {},
   "source": [
    "#### Evaluating Decision Tree Model"
   ]
  },
  {
   "cell_type": "code",
   "execution_count": 27,
   "metadata": {},
   "outputs": [
    {
     "data": {
      "text/plain": [
       "array([0, 0, 0, 0, 0, 1, 0, 0, 0, 1])"
      ]
     },
     "execution_count": 27,
     "metadata": {},
     "output_type": "execute_result"
    }
   ],
   "source": [
    "# Predict Output\n",
    "predicted = model_gini.predict(X_test)\n",
    "predicted[:10]"
   ]
  },
  {
   "cell_type": "code",
   "execution_count": 28,
   "metadata": {},
   "outputs": [
    {
     "data": {
      "text/plain": [
       "array([1, 1, 0, 1, 0, 0, 0, 0, 0, 1])"
      ]
     },
     "execution_count": 28,
     "metadata": {},
     "output_type": "execute_result"
    }
   ],
   "source": [
    "y_test.values[0:10]"
   ]
  },
  {
   "cell_type": "code",
   "execution_count": 29,
   "metadata": {},
   "outputs": [
    {
     "name": "stdout",
     "output_type": "stream",
     "text": [
      "              precision    recall  f1-score   support\n",
      "\n",
      "           0       0.77      0.91      0.84        45\n",
      "           1       0.89      0.73      0.80        45\n",
      "\n",
      "    accuracy                           0.82        90\n",
      "   macro avg       0.83      0.82      0.82        90\n",
      "weighted avg       0.83      0.82      0.82        90\n",
      "\n"
     ]
    }
   ],
   "source": [
    "print(classification_report(y_true=y_test, y_pred=predicted))"
   ]
  },
  {
   "cell_type": "code",
   "execution_count": 31,
   "metadata": {},
   "outputs": [
    {
     "name": "stdout",
     "output_type": "stream",
     "text": [
      "0.822\n",
      "0.822\n",
      "\n",
      "Confusion matrix:\n",
      " [[41  4]\n",
      " [12 33]]\n"
     ]
    },
    {
     "data": {
      "text/plain": [
       "0.822"
      ]
     },
     "execution_count": 31,
     "metadata": {},
     "output_type": "execute_result"
    }
   ],
   "source": [
    "print(round(accuracy_score(y_true=y_test, y_pred=predicted),3))\n",
    "# or\n",
    "print(round(model_gini.score(X_test, y_test),3))\n",
    "# or\n",
    "print(\"\\nConfusion matrix:\\n\",confusion_matrix(y_true=y_test, y_pred=predicted))\n",
    "round((41+33)/(41+12+4+33),3)"
   ]
  },
  {
   "cell_type": "code",
   "execution_count": 32,
   "metadata": {},
   "outputs": [
    {
     "data": {
      "text/html": [
       "<div>\n",
       "<style scoped>\n",
       "    .dataframe tbody tr th:only-of-type {\n",
       "        vertical-align: middle;\n",
       "    }\n",
       "\n",
       "    .dataframe tbody tr th {\n",
       "        vertical-align: top;\n",
       "    }\n",
       "\n",
       "    .dataframe thead th {\n",
       "        text-align: right;\n",
       "    }\n",
       "</style>\n",
       "<table border=\"1\" class=\"dataframe\">\n",
       "  <thead>\n",
       "    <tr style=\"text-align: right;\">\n",
       "      <th></th>\n",
       "      <th>Features</th>\n",
       "      <th>Importance</th>\n",
       "    </tr>\n",
       "  </thead>\n",
       "  <tbody>\n",
       "    <tr>\n",
       "      <td>2</td>\n",
       "      <td>cp</td>\n",
       "      <td>0.453</td>\n",
       "    </tr>\n",
       "    <tr>\n",
       "      <td>12</td>\n",
       "      <td>thal</td>\n",
       "      <td>0.218</td>\n",
       "    </tr>\n",
       "    <tr>\n",
       "      <td>11</td>\n",
       "      <td>ca</td>\n",
       "      <td>0.163</td>\n",
       "    </tr>\n",
       "    <tr>\n",
       "      <td>7</td>\n",
       "      <td>thalach</td>\n",
       "      <td>0.096</td>\n",
       "    </tr>\n",
       "    <tr>\n",
       "      <td>9</td>\n",
       "      <td>oldpeak</td>\n",
       "      <td>0.046</td>\n",
       "    </tr>\n",
       "    <tr>\n",
       "      <td>3</td>\n",
       "      <td>trestbps</td>\n",
       "      <td>0.025</td>\n",
       "    </tr>\n",
       "    <tr>\n",
       "      <td>0</td>\n",
       "      <td>age</td>\n",
       "      <td>0.000</td>\n",
       "    </tr>\n",
       "    <tr>\n",
       "      <td>1</td>\n",
       "      <td>sex</td>\n",
       "      <td>0.000</td>\n",
       "    </tr>\n",
       "    <tr>\n",
       "      <td>4</td>\n",
       "      <td>chol</td>\n",
       "      <td>0.000</td>\n",
       "    </tr>\n",
       "    <tr>\n",
       "      <td>5</td>\n",
       "      <td>fbs</td>\n",
       "      <td>0.000</td>\n",
       "    </tr>\n",
       "    <tr>\n",
       "      <td>6</td>\n",
       "      <td>restecg</td>\n",
       "      <td>0.000</td>\n",
       "    </tr>\n",
       "    <tr>\n",
       "      <td>8</td>\n",
       "      <td>exang</td>\n",
       "      <td>0.000</td>\n",
       "    </tr>\n",
       "    <tr>\n",
       "      <td>10</td>\n",
       "      <td>slope</td>\n",
       "      <td>0.000</td>\n",
       "    </tr>\n",
       "  </tbody>\n",
       "</table>\n",
       "</div>"
      ],
      "text/plain": [
       "    Features  Importance\n",
       "2         cp       0.453\n",
       "12      thal       0.218\n",
       "11        ca       0.163\n",
       "7    thalach       0.096\n",
       "9    oldpeak       0.046\n",
       "3   trestbps       0.025\n",
       "0        age       0.000\n",
       "1        sex       0.000\n",
       "4       chol       0.000\n",
       "5        fbs       0.000\n",
       "6    restecg       0.000\n",
       "8      exang       0.000\n",
       "10     slope       0.000"
      ]
     },
     "execution_count": 32,
     "metadata": {},
     "output_type": "execute_result"
    }
   ],
   "source": [
    "importances = pd.DataFrame({'Features': X_train.columns,\n",
    "                            'Importance': np.round(model_gini.feature_importances_,3)})\n",
    "importances.sort_values('Importance', ascending=False)"
   ]
  },
  {
   "cell_type": "markdown",
   "metadata": {},
   "source": [
    "#### Entropy algorithm"
   ]
  },
  {
   "cell_type": "code",
   "execution_count": 33,
   "metadata": {},
   "outputs": [
    {
     "data": {
      "text/plain": [
       "DecisionTreeClassifier(class_weight=None, criterion='entropy', max_depth=3,\n",
       "                       max_features=None, max_leaf_nodes=None,\n",
       "                       min_impurity_decrease=0.0, min_impurity_split=None,\n",
       "                       min_samples_leaf=1, min_samples_split=2,\n",
       "                       min_weight_fraction_leaf=0.0, presort=False,\n",
       "                       random_state=None, splitter='best')"
      ]
     },
     "execution_count": 33,
     "metadata": {},
     "output_type": "execute_result"
    }
   ],
   "source": [
    "model_entropy = tree.DecisionTreeClassifier(criterion='entropy', max_depth = 3)\n",
    "model_entropy.fit(X_train, y_train)"
   ]
  },
  {
   "cell_type": "code",
   "execution_count": 34,
   "metadata": {},
   "outputs": [
    {
     "name": "stdout",
     "output_type": "stream",
     "text": [
      "0.833\n"
     ]
    }
   ],
   "source": [
    "pred = model_entropy.predict(X_test)\n",
    "acc = accuracy_score(y_true=y_test, y_pred=pred)\n",
    "\n",
    "print(round(acc, 3))"
   ]
  },
  {
   "cell_type": "markdown",
   "metadata": {},
   "source": [
    "There are other tree-based approaches such as Bagging, Random Forests and Boosting which improve the accuracy."
   ]
  },
  {
   "cell_type": "markdown",
   "metadata": {},
   "source": [
    "### Visualize Decision Tree"
   ]
  },
  {
   "cell_type": "code",
   "execution_count": 35,
   "metadata": {},
   "outputs": [
    {
     "data": {
      "text/plain": [
       "[Text(167.4, 190.26, 'X[2] <= 3.5\\ngini = 0.494\\nsamples = 207\\nvalue = [115, 92]'),\n",
       " Text(83.7, 135.9, 'X[12] <= 4.5\\ngini = 0.331\\nsamples = 110\\nvalue = [87, 23]'),\n",
       " Text(41.85, 81.53999999999999, 'X[11] <= 1.5\\ngini = 0.188\\nsamples = 76\\nvalue = [68, 8]'),\n",
       " Text(20.925, 27.180000000000007, 'gini = 0.131\\nsamples = 71\\nvalue = [66, 5]'),\n",
       " Text(62.775000000000006, 27.180000000000007, 'gini = 0.48\\nsamples = 5\\nvalue = [2, 3]'),\n",
       " Text(125.55000000000001, 81.53999999999999, 'X[7] <= 143.5\\ngini = 0.493\\nsamples = 34\\nvalue = [19, 15]'),\n",
       " Text(104.625, 27.180000000000007, 'gini = 0.0\\nsamples = 7\\nvalue = [0, 7]'),\n",
       " Text(146.475, 27.180000000000007, 'gini = 0.417\\nsamples = 27\\nvalue = [19, 8]'),\n",
       " Text(251.10000000000002, 135.9, 'X[11] <= 0.5\\ngini = 0.411\\nsamples = 97\\nvalue = [28, 69]'),\n",
       " Text(209.25, 81.53999999999999, 'X[12] <= 6.5\\ngini = 0.498\\nsamples = 43\\nvalue = [23, 20]'),\n",
       " Text(188.32500000000002, 27.180000000000007, 'gini = 0.355\\nsamples = 26\\nvalue = [20, 6]'),\n",
       " Text(230.175, 27.180000000000007, 'gini = 0.291\\nsamples = 17\\nvalue = [3, 14]'),\n",
       " Text(292.95, 81.53999999999999, 'X[3] <= 109.0\\ngini = 0.168\\nsamples = 54\\nvalue = [5, 49]'),\n",
       " Text(272.02500000000003, 27.180000000000007, 'gini = 0.5\\nsamples = 4\\nvalue = [2, 2]'),\n",
       " Text(313.875, 27.180000000000007, 'gini = 0.113\\nsamples = 50\\nvalue = [3, 47]')]"
      ]
     },
     "execution_count": 35,
     "metadata": {},
     "output_type": "execute_result"
    },
    {
     "data": {
      "image/png": "[encoded data removed]",
      "text/plain": [
       "<Figure size 432x288 with 1 Axes>"
      ]
     },
     "metadata": {
      "needs_background": "light"
     },
     "output_type": "display_data"
    }
   ],
   "source": [
    "tree.plot_tree(model_gini.fit(X_train, y_train)) "
   ]
  },
  {
   "cell_type": "code",
   "execution_count": 36,
   "metadata": {},
   "outputs": [
    {
     "data": {
      "text/plain": [
       "[Text(167.4, 190.26, 'X[2] <= 3.5\\nentropy = 0.991\\nsamples = 207\\nvalue = [115, 92]'),\n",
       " Text(83.7, 135.9, 'X[12] <= 4.5\\nentropy = 0.74\\nsamples = 110\\nvalue = [87, 23]'),\n",
       " Text(41.85, 81.53999999999999, 'X[7] <= 164.5\\nentropy = 0.485\\nsamples = 76\\nvalue = [68, 8]'),\n",
       " Text(20.925, 27.180000000000007, 'entropy = 0.722\\nsamples = 40\\nvalue = [32, 8]'),\n",
       " Text(62.775000000000006, 27.180000000000007, 'entropy = 0.0\\nsamples = 36\\nvalue = [36, 0]'),\n",
       " Text(125.55000000000001, 81.53999999999999, 'X[7] <= 143.5\\nentropy = 0.99\\nsamples = 34\\nvalue = [19, 15]'),\n",
       " Text(104.625, 27.180000000000007, 'entropy = 0.0\\nsamples = 7\\nvalue = [0, 7]'),\n",
       " Text(146.475, 27.180000000000007, 'entropy = 0.877\\nsamples = 27\\nvalue = [19, 8]'),\n",
       " Text(251.10000000000002, 135.9, 'X[11] <= 0.5\\nentropy = 0.867\\nsamples = 97\\nvalue = [28, 69]'),\n",
       " Text(209.25, 81.53999999999999, 'X[12] <= 6.5\\nentropy = 0.996\\nsamples = 43\\nvalue = [23, 20]'),\n",
       " Text(188.32500000000002, 27.180000000000007, 'entropy = 0.779\\nsamples = 26\\nvalue = [20, 6]'),\n",
       " Text(230.175, 27.180000000000007, 'entropy = 0.672\\nsamples = 17\\nvalue = [3, 14]'),\n",
       " Text(292.95, 81.53999999999999, 'X[9] <= 0.55\\nentropy = 0.445\\nsamples = 54\\nvalue = [5, 49]'),\n",
       " Text(272.02500000000003, 27.180000000000007, 'entropy = 0.863\\nsamples = 14\\nvalue = [4, 10]'),\n",
       " Text(313.875, 27.180000000000007, 'entropy = 0.169\\nsamples = 40\\nvalue = [1, 39]')]"
      ]
     },
     "execution_count": 36,
     "metadata": {},
     "output_type": "execute_result"
    },
    {
     "data": {
      "image/png": "[encoded data removed]",
      "text/plain": [
       "<Figure size 432x288 with 1 Axes>"
      ]
     },
     "metadata": {
      "needs_background": "light"
     },
     "output_type": "display_data"
    }
   ],
   "source": [
    "# tree.plot_tree(model_entropy.fit(df, df[\"status\"]))\n",
    "tree.plot_tree(model_entropy.fit(X_train, y_train))"
   ]
  },
  {
   "cell_type": "code",
   "execution_count": 37,
   "metadata": {},
   "outputs": [
    {
     "name": "stdout",
     "output_type": "stream",
     "text": [
      "|--- cp <= 3.50\n",
      "|   |--- thal <= 4.50\n",
      "|   |   |--- ca <= 1.50\n",
      "|   |   |   |--- class: 0\n",
      "|   |   |--- ca >  1.50\n",
      "|   |   |   |--- class: 1\n",
      "|   |--- thal >  4.50\n",
      "|   |   |--- thalach <= 143.50\n",
      "|   |   |   |--- class: 1\n",
      "|   |   |--- thalach >  143.50\n",
      "|   |   |   |--- class: 0\n",
      "|--- cp >  3.50\n",
      "|   |--- ca <= 0.50\n",
      "|   |   |--- thal <= 6.50\n",
      "|   |   |   |--- class: 0\n",
      "|   |   |--- thal >  6.50\n",
      "|   |   |   |--- class: 1\n",
      "|   |--- ca >  0.50\n",
      "|   |   |--- trestbps <= 109.00\n",
      "|   |   |   |--- class: 0\n",
      "|   |   |--- trestbps >  109.00\n",
      "|   |   |   |--- class: 1\n",
      "\n"
     ]
    }
   ],
   "source": [
    "from sklearn.tree.export import export_text\n",
    "\n",
    "r = export_text(model_gini, feature_names=list(X_train.columns))\n",
    "print(r)"
   ]
  }
 ],
 "metadata": {
  "kernelspec": {
   "display_name": "Python 3",
   "language": "python",
   "name": "python3"
  },
  "language_info": {
   "codemirror_mode": {
    "name": "ipython",
    "version": 3
   },
   "file_extension": ".py",
   "mimetype": "text/x-python",
   "name": "python",
   "nbconvert_exporter": "python",
   "pygments_lexer": "ipython3",
   "version": "3.7.4"
  }
 },
 "nbformat": 4,
 "nbformat_minor": 2
}
